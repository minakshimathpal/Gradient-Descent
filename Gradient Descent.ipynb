{
 "cells": [
  {
   "cell_type": "code",
   "execution_count": 461,
   "metadata": {},
   "outputs": [],
   "source": [
    "import numpy as np\n",
    "import matplotlib.pyplot as plt\n",
    "import seaborn as sns\n",
    "%matplotlib inline"
   ]
  },
  {
   "cell_type": "code",
   "execution_count": 223,
   "metadata": {},
   "outputs": [],
   "source": [
    "# class gradient_descent:\n",
    "#     def __init__(self,start,learning_rate,gradient,n_iter,tolerance=1e-6):\n",
    "#         self.start=start\n",
    "#         self.learning_rate=learning_rate\n",
    "#         self.gradient=gradient\n",
    "#         self.n_iter=n_iter\n",
    "#         self.tolerance=tolerance\n",
    "        \n",
    "#     def gradient(self):    \n",
    "# #def gradient_descent( start, learning_rate,gradient,n_iter,tolerance=1e-6):\n",
    "#         \"\"\"\n",
    "#         --- gradient is the function or any Python callable object that takes a vector and returns the gradient of the \n",
    "#             function you’re trying to minimize.\n",
    "#         --- start is the point where the algorithm starts its search, given as a sequence (tuple, list, NumPy array, and \n",
    "#             so on) or scalar (in the case of a one-dimensional problem).\n",
    "#         --- learn_rate is the learning rate that controls the magnitude of the vector update.\n",
    "#         --- n_iter is the number of iterations.   \n",
    "#         --- tolerance (line 4), which specifies the minimal allowed movement in each iteration. \n",
    "#         \"\"\"\n",
    "#         self.vector=self.start\n",
    "#         for _ in range(self.n_iter):\n",
    "#             self.diff= -(self.learning_rate*self.gradient(self.vector))\n",
    "#             self.vector+=self.diff\n",
    "#             self.vector_.append(self.vector)\n",
    "#             if np.all(np.abs(self.diff)<=self.tolerance):\n",
    "#                 break\n",
    "#         return self.vector    "
   ]
  },
  {
   "cell_type": "markdown",
   "metadata": {},
   "source": [
    "gradient_descent() to stop iterating and return the result before n_iter is reached if the vector update in the current iteration is less than or equal to tolerance. This often happens near the minimum, where gradients are usually very small. Unfortunately, it can also happen near a local minimum or a saddle point."
   ]
  },
  {
   "cell_type": "code",
   "execution_count": 409,
   "metadata": {},
   "outputs": [],
   "source": [
    "def gradient_descent( start, learning_rate,gradient,n_iter,tolerance=1e-6):\n",
    "    \"\"\"\n",
    "    --- gradient is the function or any Python callable object that takes a vector and returns the gradient of the \n",
    "            function you’re trying to minimize.\n",
    "     --- start is the point where the algorithm starts its search, given as a sequence (tuple, list, NumPy array, and \n",
    "            so on) or scalar (in the case of a one-dimensional problem).\n",
    "     --- learn_rate is the learning rate that controls the magnitude of the vector update.\n",
    "     --- n_iter is the number of iterations.   \n",
    "     --- tolerance (line 4), which specifies the minimal allowed movement in each iteration. \n",
    "     \"\"\"\n",
    "    vector=start\n",
    "    vector_=[]\n",
    "    \n",
    "    for _ in range(n_iter):        \n",
    "        diff= -(learning_rate*gradient(vector))\n",
    "        vector+=diff        \n",
    "        if np.all(np.abs(diff)<=tolerance):\n",
    "            break\n",
    "    return vector,vector_    "
   ]
  },
  {
   "cell_type": "code",
   "execution_count": 225,
   "metadata": {},
   "outputs": [
    {
     "name": "stdout",
     "output_type": "stream",
     "text": [
      "Function minima at 1.3264435183243986e-06\n"
     ]
    }
   ],
   "source": [
    "result=gradient_descent(gradient=lambda v: 2*v,start=10,learning_rate=.2,n_iter=100)\n",
    "print(\"Function minima at {}\".format(result[0]))"
   ]
  },
  {
   "cell_type": "code",
   "execution_count": 226,
   "metadata": {},
   "outputs": [],
   "source": [
    "def func(x):\n",
    "    fx=[]\n",
    "    for x_ in x:\n",
    "        f=x_*x_\n",
    "        fx.append(f)\n",
    "    return fx"
   ]
  },
  {
   "cell_type": "code",
   "execution_count": 227,
   "metadata": {},
   "outputs": [],
   "source": [
    "f=func(result[1])"
   ]
  },
  {
   "cell_type": "code",
   "execution_count": 228,
   "metadata": {},
   "outputs": [
    {
     "data": {
      "text/plain": [
       "[<matplotlib.lines.Line2D at 0x1edfd666f10>]"
      ]
     },
     "execution_count": 228,
     "metadata": {},
     "output_type": "execute_result"
    },
    {
     "data": {
      "image/png": "[encoded data removed]",
      "text/plain": [
       "<Figure size 432x288 with 1 Axes>"
      ]
     },
     "metadata": {
      "needs_background": "light"
     },
     "output_type": "display_data"
    }
   ],
   "source": [
    "plt.scatter(result[1],f,c=\"g\")\n",
    "plt.plot(result[1],f)"
   ]
  },
  {
   "cell_type": "markdown",
   "metadata": {},
   "source": [
    "You start from the rightmost green dot (𝑣 = 10) and move toward the minimum (𝑣 = 0). The updates are larger at first because the value of the gradient (and slope) is higher. As you approach the minimum, they become lower."
   ]
  },
  {
   "cell_type": "markdown",
   "metadata": {},
   "source": [
    "### Learning Rate Impact\n",
    "The learning rate is a very important parameter of the algorithm. Different learning rate values can significantly affect the behavior of gradient descent. "
   ]
  },
  {
   "cell_type": "code",
   "execution_count": 229,
   "metadata": {},
   "outputs": [
    {
     "name": "stdout",
     "output_type": "stream",
     "text": [
      "Function minima at 2.865117999580716e-07\n"
     ]
    }
   ],
   "source": [
    "result=gradient_descent(gradient=lambda v: 2*v,start=10,learning_rate=.8,n_iter=100)\n",
    "print(\"Function minima at {}\".format(result[0]))"
   ]
  },
  {
   "cell_type": "code",
   "execution_count": 230,
   "metadata": {},
   "outputs": [
    {
     "data": {
      "text/plain": [
       "[<matplotlib.lines.Line2D at 0x1edfd6d37f0>]"
      ]
     },
     "execution_count": 230,
     "metadata": {},
     "output_type": "execute_result"
    },
    {
     "data": {
      "image/png": "[encoded data removed]",
      "text/plain": [
       "<Figure size 432x288 with 1 Axes>"
      ]
     },
     "metadata": {
      "needs_background": "light"
     },
     "output_type": "display_data"
    }
   ],
   "source": [
    "f=func(result[1])\n",
    "plt.figure()\n",
    "plt.scatter(result[1],f,c=\"g\")\n",
    "plt.plot(result[1],f)\n"
   ]
  },
  {
   "cell_type": "markdown",
   "metadata": {},
   "source": [
    "You get another solution that’s very close to zero, but the internal behavior of the algorithm is different.\n",
    "In this case, you again start with 𝑣 = 10, but because of the high learning rate, you get a large change in 𝑣 \n",
    "that passes to the other side of the optimum and becomes −6. It crosses zero a few more times before settling near it."
   ]
  },
  {
   "cell_type": "code",
   "execution_count": 198,
   "metadata": {},
   "outputs": [
    {
     "data": {
      "text/plain": [
       "[<matplotlib.lines.Line2D at 0x1edfc61d040>]"
      ]
     },
     "execution_count": 198,
     "metadata": {},
     "output_type": "execute_result"
    },
    {
     "data": {
      "image/png": "[encoded data removed]",
      "text/plain": [
       "<Figure size 432x288 with 1 Axes>"
      ]
     },
     "metadata": {
      "needs_background": "light"
     },
     "output_type": "display_data"
    }
   ],
   "source": [
    "# again change learning rate to a very small number\n",
    "result=gradient_descent(gradient=lambda v: 2*v,start=10,learning_rate=.005,n_iter=50)\n",
    "f=func(result[1])\n",
    "plt.figure()\n",
    "plt.scatter(result[1],f)\n",
    "plt.plot(result[1],f)"
   ]
  },
  {
   "cell_type": "markdown",
   "metadata": {},
   "source": [
    "For small learning rate our algorithm will converge at a very slow rate sometime it \n",
    "might not converge till the number of iterations we have specified. However it might converge if we incerase the number of iterations.\n",
    "\n",
    "Nonconvex functions might have local minima or saddle points where the algorithm can get trapped. In these situations, our choice of learning rate or starting point can make the difference between finding a local minimum and finding the global minimum."
   ]
  },
  {
   "cell_type": "markdown",
   "metadata": {},
   "source": [
    "Lets try another function v^4-5*v^2-3*v. "
   ]
  },
  {
   "cell_type": "code",
   "execution_count": 231,
   "metadata": {},
   "outputs": [
    {
     "name": "stdout",
     "output_type": "stream",
     "text": [
      "Function minima at -1.4207567437458342\n"
     ]
    },
    {
     "data": {
      "text/plain": [
       "[<matplotlib.lines.Line2D at 0x1edfd73fd30>]"
      ]
     },
     "execution_count": 231,
     "metadata": {},
     "output_type": "execute_result"
    },
    {
     "data": {
      "image/png": "[encoded data removed]",
      "text/plain": [
       "<Figure size 720x720 with 1 Axes>"
      ]
     },
     "metadata": {
      "needs_background": "light"
     },
     "output_type": "display_data"
    }
   ],
   "source": [
    "result=gradient_descent(gradient=lambda v: 4 * v**3 - 10 * v - 3, start=0,learning_rate=0.2,n_iter=50)\n",
    "print(\"Function minima at {}\".format(result[0]))\n",
    "fx=[]\n",
    "for v in result[1]:\n",
    "    f=v**4-5*v**2-3*v\n",
    "    fx.append(f)\n",
    "plt.figure(figsize=(10,10))\n",
    "plt.scatter(result[1],fx,c=\"g\")\n",
    "plt.plot(result[1],fx)"
   ]
  },
  {
   "cell_type": "markdown",
   "metadata": {},
   "source": [
    "During the first two iterations, your vector was moving toward the global minimum, \n",
    "but then it crossed to the opposite side from around 2.5  and stayed trapped in the local minimum. \n",
    "We can prevent this with a smaller learning rate:\n",
    "\n"
   ]
  },
  {
   "cell_type": "code",
   "execution_count": 232,
   "metadata": {},
   "outputs": [
    {
     "name": "stdout",
     "output_type": "stream",
     "text": [
      "Function minima at 1.285401330315467\n"
     ]
    },
    {
     "data": {
      "text/plain": [
       "[<matplotlib.lines.Line2D at 0x1edfd7b6bb0>]"
      ]
     },
     "execution_count": 232,
     "metadata": {},
     "output_type": "execute_result"
    },
    {
     "data": {
      "image/png": "[encoded data removed]",
      "text/plain": [
       "<Figure size 720x720 with 1 Axes>"
      ]
     },
     "metadata": {
      "needs_background": "light"
     },
     "output_type": "display_data"
    }
   ],
   "source": [
    "result=gradient_descent(gradient=lambda v: 4 * v**3 - 10 * v - 3, start=0,learning_rate=0.1,n_iter=50)\n",
    "print(\"Function minima at {}\".format(result[0]))\n",
    "fx=[]\n",
    "for v in result[1]:\n",
    "    f=v**4-5*v**2-3*v\n",
    "    fx.append(f)\n",
    "plt.figure(figsize=(10,10))\n",
    "plt.scatter(result[1],fx,c=\"g\")\n",
    "plt.plot(result[1],fx)    "
   ]
  },
  {
   "cell_type": "markdown",
   "metadata": {},
   "source": [
    "When you decrease the learning rate from 0.2 to 0.1, you get a solution very close to the global minimum.A lower learning rate prevents the vector from making large jumps, and in this case, the vector remains closer to the global optimum.\n",
    "\n",
    "Adjusting the learning rate is tricky. We can’t know the best value in advance. There are many techniques and heuristics that try to help with this. In addition,we often tune the learning rate during model selection and evaluation.\n",
    "\n",
    "Besides the learning rate, the starting point can affect the solution significantly, especially with nonconvex functions."
   ]
  },
  {
   "cell_type": "markdown",
   "metadata": {},
   "source": [
    "We can also use gradient_descent() with functions of more than one variable. The application is the same, but we  need to provide the gradient and starting points as vectors or arrays. for example we want to find the mininum of 𝑣₁² + 𝑣₂⁴. It has the gradient vector (2𝑣₁, 4𝑣₂³):"
   ]
  },
  {
   "cell_type": "code",
   "execution_count": 234,
   "metadata": {},
   "outputs": [
    {
     "name": "stdout",
     "output_type": "stream",
     "text": [
      "Function minima at [8.08281277e-12 9.75207120e-02]\n"
     ]
    }
   ],
   "source": [
    "result=gradient_descent(gradient=lambda v:np.array([2*v[0],4*v[1]**3]), start=np.array([1.0, 1.0]),learning_rate=0.2,n_iter=50)\n",
    "print(\"Function minima at {}\".format(result[0]))\n"
   ]
  },
  {
   "cell_type": "markdown",
   "metadata": {},
   "source": [
    "The resulting values are almost equal to zero, so you can say that gradient_descent() correctly found that the minimum of this function is at 𝑣₁ = 𝑣₂ = 0."
   ]
  },
  {
   "cell_type": "markdown",
   "metadata": {},
   "source": [
    "### Gradient Descent for linear regression  using OLS\n",
    "\n",
    "linear regression and the ordinary least squares method start with the observed values of the inputs 𝐱 = (𝑥₁, …, 𝑥ᵣ) and outputs 𝑦. They define a linear function 𝑓(𝐱) = 𝑏₀ + 𝑏₁𝑥₁ + ⋯ + 𝑏ᵣ𝑥ᵣ, which is as close as possible to 𝑦.\n",
    "\n",
    "This is an optimization problem. It finds the values of weights 𝑏₀, 𝑏₁, …, 𝑏ᵣ that minimize the sum of squared residuals SSR = Σᵢ(𝑦ᵢ − 𝑓(𝐱ᵢ))² or the mean squared error MSE = SSR / 𝑛. Here, 𝑛 is the total number of observations and 𝑖 = 1, …, 𝑛.\n",
    "\n",
    "We can also use the cost function 𝐶 = SSR / (2𝑛), which is mathematically more convenient than SSR or MSE.\n",
    "\n",
    "Lets see simple linear regression. It has only one set of inputs 𝑥 and two weights: 𝑏₀ and 𝑏₁. The equation of the regression line is 𝑓(𝑥) = 𝑏₀ + 𝑏₁𝑥.\n",
    "\n",
    "We will use gradient descent to determine them.\n",
    "\n",
    "First, find the gradient of the cost function 𝐶 = Σᵢ(𝑦ᵢ − 𝑏₀ − 𝑏₁𝑥ᵢ)² / (2𝑛). Since we have two decision variables, 𝑏₀ and 𝑏₁, the gradient ∇𝐶 is a vector with two components:\n",
    "\n",
    "∂𝐶/∂𝑏₀ = (1/𝑛) Σᵢ(𝑏₀ + 𝑏₁𝑥ᵢ − 𝑦ᵢ) = mean(𝑏₀ + 𝑏₁𝑥ᵢ − 𝑦ᵢ)(This is mean of residuals)\n",
    "∂𝐶/∂𝑏₁ = (1/𝑛) Σᵢ(𝑏₀ + 𝑏₁𝑥ᵢ − 𝑦ᵢ) 𝑥ᵢ = mean((𝑏₀ + 𝑏₁𝑥ᵢ − 𝑦ᵢ) 𝑥ᵢ)(This is mean of residuals* input)\n",
    "WE need the values of 𝑥 and 𝑦 to calculate the gradient of this cost function. Our gradient function will have as inputs not only 𝑏₀ and 𝑏₁ but also 𝑥 and 𝑦. This is how it might look:"
   ]
  },
  {
   "cell_type": "code",
   "execution_count": 310,
   "metadata": {},
   "outputs": [],
   "source": [
    "def cost_function_gradients(x,y,b):\n",
    "    residual= b[0]+b[1]*x-y\n",
    "    return residual.mean(),(residual *x).mean()\n",
    "    "
   ]
  },
  {
   "cell_type": "markdown",
   "metadata": {},
   "source": [
    "cost_function_gradients() takes the arrays x and y, which contain the observation inputs and outputs, and the array b that holds the current values of the decision variables 𝑏₀ and 𝑏₁. This function first calculates the array of the residuals for each observation (res) and then returns the pair of values of ∂𝐶/∂𝑏₀ and ∂𝐶/∂𝑏₁."
   ]
  },
  {
   "cell_type": "code",
   "execution_count": 462,
   "metadata": {},
   "outputs": [],
   "source": [
    "# improved Gradient Descent\n",
    "def ols_gradient_descent( gradient,x,y,start,learning_rate,n_iter,tolerance=1e-6):\n",
    "    weights=start\n",
    "    for _ in range(n_iter):\n",
    "        diff=-(learning_rate*np.array(gradient(x,y,weights)))\n",
    "        if np.all(np.abs(diff) <= tolerance):\n",
    "               break\n",
    "        weights+=diff\n",
    "    return weights          \n",
    "        "
   ]
  },
  {
   "cell_type": "code",
   "execution_count": 463,
   "metadata": {},
   "outputs": [
    {
     "data": {
      "text/plain": [
       "array([5.62822349, 0.54012867])"
      ]
     },
     "execution_count": 463,
     "metadata": {},
     "output_type": "execute_result"
    }
   ],
   "source": [
    "x = np.array([5, 15, 25, 35, 45, 55])\n",
    "y = np.array([5, 20, 14, 32, 22, 38])\n",
    "\n",
    "ols_gradient_descent( cost_function_gradients,x,y,start=[0.5, 0.5],learning_rate=0.0008,n_iter=100000)"
   ]
  },
  {
   "cell_type": "markdown",
   "metadata": {},
   "source": [
    "Lets verify if our Gradient Descent is working appropriately or not by implementing the above toy example using scikit learn"
   ]
  },
  {
   "cell_type": "code",
   "execution_count": 464,
   "metadata": {},
   "outputs": [],
   "source": [
    "# implementation of Linear Regression using Sklearn\n",
    "from sklearn.linear_model import LinearRegression\n",
    "model=LinearRegression()"
   ]
  },
  {
   "cell_type": "code",
   "execution_count": 465,
   "metadata": {},
   "outputs": [
    {
     "data": {
      "text/plain": [
       "LinearRegression()"
      ]
     },
     "execution_count": 465,
     "metadata": {},
     "output_type": "execute_result"
    }
   ],
   "source": [
    "model.fit(x.reshape(-1,1),y)"
   ]
  },
  {
   "cell_type": "code",
   "execution_count": 466,
   "metadata": {},
   "outputs": [
    {
     "name": "stdout",
     "output_type": "stream",
     "text": [
      "[0.54] 5.633333333333329\n"
     ]
    }
   ],
   "source": [
    "print(model.coef_,model.intercept_)"
   ]
  },
  {
   "cell_type": "markdown",
   "metadata": {},
   "source": [
    "So we can see that our both results are consistent "
   ]
  },
  {
   "cell_type": "markdown",
   "metadata": {},
   "source": [
    "### Lets make Gradient descent  more robust, comprehensive, and better-looking without modifying its core functionality:\n",
    "\n"
   ]
  },
  {
   "cell_type": "code",
   "execution_count": 467,
   "metadata": {},
   "outputs": [],
   "source": [
    "def gradient_descent(gradient, x, y, start, learning_rate, n_iter=50, tolerance=1e-06):\n",
    "    \n",
    "    # check if gradient is callable or not using python inbuilt callable function\n",
    "    if not callable(gradient):\n",
    "        raise TypeError(\"gradient should be callable\") \n",
    "        # The raise statement allows the programmer to force a specific exception to occur\n",
    "    # converting x,y into numpy arrays\n",
    "    x = np.array(x,dtype=\"float64\")\n",
    "    y = np.array(y,dtype=\"float64\")\n",
    "    \n",
    "    if x.shape[0] != y.shape[0]:\n",
    "        raise ValueError(\"'x' and 'y' should be of same length\")\n",
    "        \n",
    "    # initialising the value of weights\n",
    "    weights=np.array(start, dtype=\"float64\")\n",
    "    \n",
    "    # setting up the learning rate\n",
    "    learning_rate= np.array(learning_rate,dtype=\"float64\")\n",
    "    #enables you to specify different learning rates for each decision variable by passing a list, tuple, or NumPy array                         \n",
    "    if np.any(learning_rate<=0): \n",
    "        raise ValueError(\"'learn_rate' must be greater than zero\")\n",
    "        \n",
    "   # Setting up and checking the maximal number of iterations\n",
    "    n_iter = int(n_iter)\n",
    "    if n_iter <= 0:\n",
    "        raise ValueError(\"'n_iter' must be greater than zero\")\n",
    "\n",
    "    # Setting up and checking the tolerance\n",
    "    tolerance = np.array(tolerance, dtype=\"float64\")\n",
    "    if np.any(tolerance <= 0):\n",
    "        raise ValueError(\"'tolerance' must be greater than zero\")\n",
    "\n",
    "    # Performing the gradient descent loop  \n",
    "    for _ in range(n_iter):\n",
    "        \n",
    "        # calculating the step size\n",
    "        diff=-(learning_rate*np.array(gradient(x,y,weights),dtype=\"float64\"))\n",
    "        \n",
    "        # Checking if the absolute difference is small enough\n",
    "        if np.all(np.abs(diff) <= tolerance):\n",
    "            break\n",
    "\n",
    "        # Updating the weights\n",
    "        weights += diff\n",
    "\n",
    "    return weights if weights.shape else weights.item()"
   ]
  },
  {
   "cell_type": "code",
   "execution_count": 422,
   "metadata": {},
   "outputs": [
    {
     "data": {
      "text/plain": [
       "array([5.62822349, 0.54012867])"
      ]
     },
     "execution_count": 422,
     "metadata": {},
     "output_type": "execute_result"
    }
   ],
   "source": [
    "gradient_descent(cost_function_gradients, x, y, start=[0.5,0.5], learning_rate=0.0008, n_iter=100000, tolerance=1e-06)"
   ]
  },
  {
   "cell_type": "markdown",
   "metadata": {},
   "source": [
    "### MiniBatch Stocastic Gradient Descent\n",
    "\n",
    "* Stochastic gradient descent randomly divides the set of observations into minibatches.\n",
    "* For each minibatch, the gradient is computed and the vector is moved.\n",
    "* Once all minibatches are used, you say that the iteration, or epoch, is finished and start the next one.\n",
    "* This algorithm randomly selects observations for minibatches, "
   ]
  },
  {
   "cell_type": "code",
   "execution_count": 429,
   "metadata": {},
   "outputs": [],
   "source": [
    "def sgd(gradient,x,y,start,learning_rate=0.1,batch_size=1,n_iters=50,tolerance=1e-06,random_state=None):\n",
    "    if not callable(gradient):\n",
    "        raise TypeError(\"gradient should be callable\") \n",
    "        # The raise statement allows the programmer to force a specific exception to occur\n",
    "    # converting x,y into numpy arrays\n",
    "    x = np.array(x,dtype=\"float64\")\n",
    "    y = np.array(y,dtype=\"float64\")\n",
    "    n_obs=x.shape[0]\n",
    "    if n_obs != y.shape[0]:\n",
    "        raise ValueError(\"'x' and 'y' should be of same length\")\n",
    "    \n",
    "    # make sure that both x and y become two-dimensional arrays with n_obs rows and that y has exactly one column\n",
    "    # np.c_ concatenates the columns of x and y into a single array, xy. \n",
    "    # This is one way to make data suitable for random selection.\n",
    "    xy = np.c_[x.reshape(n_obs, -1), y.reshape(n_obs, 1)] #\n",
    "    # initializing Random number generator\n",
    "    seed = None if random_state is None else int(random_state)\n",
    "    rng=np.random.default_rng(seed=seed)#  default_rng() creates an instance of Generator.\n",
    "    \n",
    "    # initialize the weights\n",
    "    weights=np.array(start,dtype=\"float64\")\n",
    "    \n",
    "    #setting up learning rate\n",
    "    learning_rate=np.array(learning_rate,dtype=\"float64\")\n",
    "    if np.any(learning_rate<0):\n",
    "        raise ValueError(\"Learning rate cannot be less than zero\")\n",
    "        \n",
    "    # setting up and checking the mini batches\n",
    "    batch_size= int(batch_size)\n",
    "    if not 0 < batch_size < n_obs:\n",
    "        raise ValueError(\"Batch size can not be less than 0 or equal to total number of observations\")\n",
    "        \n",
    "    # Setting up and checking the maximal number of iterations\n",
    "    n_iters = int(n_iters)\n",
    "    if n_iters <= 0:\n",
    "        raise ValueError(\"'n_iter' must be greater than zero\")\n",
    "\n",
    "    # Setting up and checking the tolerance\n",
    "    tolerance = np.array(tolerance, dtype=\"float64\")\n",
    "    if np.any(tolerance <= 0):\n",
    "        raise ValueError(\"'tolerance' must be greater than zero\")    \n",
    "        \n",
    "    for _ in range(n_iters):\n",
    "        #shuffle x and y\n",
    "        rng.shuffle(xy)\n",
    "        \n",
    "        #performing minibatch moves\n",
    "        for start in range(0,n_obs,batch_size):\n",
    "            stop=start+batch_size\n",
    "            x_batch,y_batch=xy[start:stop,:-1],xy[start:stop,-1:]\n",
    "            #calulating the step size\n",
    "            diff=-learning_rate*np.array(np.array(gradient(x_batch,y_batch,weights),dtype=\"float64\"))\n",
    "            # Checking if the absolute difference is small enough\n",
    "            if np.all(np.abs(diff) <= tolerance):\n",
    "                break\n",
    "\n",
    "            # Updating the weights\n",
    "            weights += diff\n",
    "        \n",
    "    return weights                          \n",
    "        \n",
    "        "
   ]
  },
  {
   "cell_type": "code",
   "execution_count": 432,
   "metadata": {},
   "outputs": [
    {
     "data": {
      "text/plain": [
       "array([5.64029553, 0.44418783])"
      ]
     },
     "execution_count": 432,
     "metadata": {},
     "output_type": "execute_result"
    }
   ],
   "source": [
    "x = np.array([5, 15, 25, 35, 45, 55])\n",
    "y = np.array([5, 20, 14, 32, 22, 38])\n",
    "sgd(cost_function_gradients,x,y,start=[0.5,0.5],learning_rate=0.0008,batch_size=3,n_iters=100000,tolerance=1e-06,random_state=None)\n"
   ]
  },
  {
   "cell_type": "markdown",
   "metadata": {},
   "source": [
    "With batch_size, you specify the number of observations in each minibatch. This is an essential parameter for stochastic gradient descent that can significantly affect performance. The result is almost the same as you got with gradient_descent(). If you omit random_state or use None, then you’ll get somewhat different results each time you run sgd() because the random number generator will shuffle xy differently.\n",
    "\n"
   ]
  },
  {
   "cell_type": "markdown",
   "metadata": {},
   "source": [
    "### Momentum in Stochastic Gradient Descent\n",
    "\n",
    "The learning rate can have a significant impact on the result of gradient descent. You can also apply momentum to your algorithm.\n",
    "\n",
    "You can use momentum to correct the effect of the learning rate. The idea is to remember the previous update of the vector and apply it when calculating the next one. You don’t move the vector exactly in the direction of the negative gradient, but you also tend to keep the direction and magnitude from the previous move.\n",
    "\n",
    "The parameter called the decay rate or decay factor defines how strong the contribution of the previous update is."
   ]
  },
  {
   "cell_type": "code",
   "execution_count": 433,
   "metadata": {},
   "outputs": [],
   "source": [
    "def sgd_momentum(gradient,x,y,start,learning_rate=0.1,decay_rate=0.0,batch_size=1,n_iters=50,tolerance=1e-06,random_state=None):\n",
    "    if not callable(gradient):\n",
    "        raise TypeError(\"gradient should be callable\") \n",
    "        # The raise statement allows the programmer to force a specific exception to occur\n",
    "    # converting x,y into numpy arrays\n",
    "    x = np.array(x,dtype=\"float64\")\n",
    "    y = np.array(y,dtype=\"float64\")\n",
    "    n_obs=x.shape[0]\n",
    "    if n_obs != y.shape[0]:\n",
    "        raise ValueError(\"'x' and 'y' should be of same length\")\n",
    "    \n",
    "    # make sure that both x and y become two-dimensional arrays with n_obs rows and that y has exactly one column\n",
    "    # np.c_ concatenates the columns of x and y into a single array, xy. \n",
    "    # This is one way to make data suitable for random selection.\n",
    "    xy = np.c_[x.reshape(n_obs, -1), y.reshape(n_obs, 1)] #\n",
    "    # initializing Random number generator\n",
    "    seed = None if random_state is None else int(random_state)\n",
    "    rng=np.random.default_rng(seed=seed)#  default_rng() creates an instance of Generator.\n",
    "    \n",
    "    # initialize the weights\n",
    "    weights=np.array(start,dtype=\"float64\")\n",
    "    \n",
    "    #setting up learning rate\n",
    "    learning_rate=np.array(learning_rate,dtype=\"float64\")\n",
    "    if np.any(learning_rate<0):\n",
    "        raise ValueError(\"Learning rate cannot be less than zero\")\n",
    "        \n",
    "    # setting up and checking the mini batches\n",
    "    batch_size= int(batch_size)\n",
    "    if not 0 < batch_size < n_obs:\n",
    "        raise ValueError(\"Batch size can not be less than 0 or equal to total number of observations\")\n",
    "        \n",
    "    # Setting up and checking the decay rate\n",
    "    decay_rate = np.array(decay_rate, dtype=dtype_)\n",
    "    if np.any(decay_rate < 0) or np.any(decay_rate > 1):\n",
    "        raise ValueError(\"'decay_rate' must be between zero and one\")    \n",
    "        \n",
    "    # Setting up and checking the maximal number of iterations\n",
    "    n_iters = int(n_iters)\n",
    "    if n_iters <= 0:\n",
    "        raise ValueError(\"'n_iter' must be greater than zero\")\n",
    "\n",
    "    # Setting up and checking the tolerance\n",
    "    tolerance = np.array(tolerance, dtype=\"float64\")\n",
    "    if np.any(tolerance <= 0):\n",
    "        raise ValueError(\"'tolerance' must be greater than zero\")  \n",
    "        \n",
    "    # Setting the difference to zero for the first iteration\n",
    "    diff = 0   \n",
    "    # initialize diff before the iterations start to ensure that it’s available in the first iteration.\n",
    "        \n",
    "    for _ in range(n_iters):\n",
    "        #shuffle x and y\n",
    "        rng.shuffle(xy)\n",
    "        \n",
    "        #performing minibatch moves\n",
    "        for start in range(0,n_obs,batch_size):\n",
    "            stop=start+batch_size\n",
    "            x_batch,y_batch=xy[start:stop,:-1],xy[start:stop,-1:]\n",
    "            #calulating the step size\n",
    "            diff=decay_rate * diff - learning_rate*np.array(np.array(gradient(x_batch,y_batch,weights),dtype=\"float64\"))\n",
    "            # Checking if the absolute difference is small enough\n",
    "            if np.all(np.abs(diff) <= tolerance):\n",
    "                break\n",
    "\n",
    "            # Updating the weights\n",
    "            weights += diff\n",
    "        \n",
    "    return weights                          \n",
    "        "
   ]
  },
  {
   "cell_type": "markdown",
   "metadata": {},
   "source": [
    "You recalculate diff with the learning rate and gradient but also add the product of the decay rate and the old value of diff. Now diff has two components:\n",
    "\n",
    "* decay_rate * diff is the momentum, or impact of the previous move.\n",
    "* -learn_rate * grad is the impact of the current gradient.\n",
    "- The decay and learning rates serve as the weights that define the contributions of the two."
   ]
  },
  {
   "cell_type": "markdown",
   "metadata": {},
   "source": [
    "### Initialize Start Values Randomly"
   ]
  },
  {
   "cell_type": "code",
   "execution_count": 440,
   "metadata": {},
   "outputs": [],
   "source": [
    "def sgd_momentum(gradient,x,y,n_vars=None,start=None,learning_rate=0.1,decay_rate=0.0,batch_size=1,n_iters=50,tolerance=1e-06,random_state=None):\n",
    "    if not callable(gradient):\n",
    "        raise TypeError(\"gradient should be callable\") \n",
    "        # The raise statement allows the programmer to force a specific exception to occur\n",
    "    # converting x,y into numpy arrays\n",
    "    x = np.array(x,dtype=\"float64\")\n",
    "    y = np.array(y,dtype=\"float64\")\n",
    "    n_obs=x.shape[0]\n",
    "    if n_obs != y.shape[0]:\n",
    "        raise ValueError(\"'x' and 'y' should be of same length\")\n",
    "    \n",
    "    # make sure that both x and y become two-dimensional arrays with n_obs rows and that y has exactly one column\n",
    "    # np.c_ concatenates the columns of x and y into a single array, xy. \n",
    "    # This is one way to make data suitable for random selection.\n",
    "    xy = np.c_[x.reshape(n_obs, -1), y.reshape(n_obs, 1)] #\n",
    "    # initializing Random number generator\n",
    "    seed = None if random_state is None else int(random_state)\n",
    "    rng=np.random.default_rng(seed=seed)#  default_rng() creates an instance of Generator.\n",
    "    \n",
    "    # initialize the weights\n",
    "    # initialize the weights\n",
    "    if start is None:\n",
    "        weights=rng.normal(size=int(n_vars)).astype(\"float64\")\n",
    "    else :\n",
    "        weights=np.array(start,dtype=\"float64\")\n",
    "    \n",
    "    #setting up learning rate\n",
    "    learning_rate=np.array(learning_rate,dtype=\"float64\")\n",
    "    if np.any(learning_rate<0):\n",
    "        raise ValueError(\"Learning rate cannot be less than zero\")\n",
    "        \n",
    "    # setting up and checking the mini batches\n",
    "    batch_size= int(batch_size)\n",
    "    if not 0 < batch_size < n_obs:\n",
    "        raise ValueError(\"Batch size can not be less than 0 or equal to total number of observations\")\n",
    "        \n",
    "    # Setting up and checking the decay rate\n",
    "    decay_rate = np.array(decay_rate, dtype=\"float64\")\n",
    "    if np.any(decay_rate < 0) or np.any(decay_rate > 1):\n",
    "        raise ValueError(\"'decay_rate' must be between zero and one\")    \n",
    "        \n",
    "    # Setting up and checking the maximal number of iterations\n",
    "    n_iters = int(n_iters)\n",
    "    if n_iters <= 0:\n",
    "        raise ValueError(\"'n_iter' must be greater than zero\")\n",
    "\n",
    "    # Setting up and checking the tolerance\n",
    "    tolerance = np.array(tolerance, dtype=\"float64\")\n",
    "    if np.any(tolerance <= 0):\n",
    "        raise ValueError(\"'tolerance' must be greater than zero\")  \n",
    "        \n",
    "    # Setting the difference to zero for the first iteration\n",
    "    diff = 0   \n",
    "    # initialize diff before the iterations start to ensure that it’s available in the first iteration.\n",
    "        \n",
    "    for _ in range(n_iters):\n",
    "        #shuffle x and y\n",
    "        rng.shuffle(xy)\n",
    "        \n",
    "        #performing minibatch moves\n",
    "        for start in range(0,n_obs,batch_size):\n",
    "            stop=start+batch_size\n",
    "            x_batch,y_batch=xy[start:stop,:-1],xy[start:stop,-1:]\n",
    "            #calulating the step size\n",
    "            diff=decay_rate * diff - learning_rate*np.array(np.array(gradient(x_batch,y_batch,weights),dtype=\"float64\"))\n",
    "            # Checking if the absolute difference is small enough\n",
    "            if np.all(np.abs(diff) <= tolerance):\n",
    "                break\n",
    "\n",
    "            # Updating the weights\n",
    "            weights += diff\n",
    "        \n",
    "    return weights                          \n",
    "        "
   ]
  },
  {
   "cell_type": "code",
   "execution_count": 442,
   "metadata": {},
   "outputs": [
    {
     "data": {
      "text/plain": [
       "array([5.63014443, 0.53901017])"
      ]
     },
     "execution_count": 442,
     "metadata": {},
     "output_type": "execute_result"
    }
   ],
   "source": [
    "sgd_momentum(cost_function_gradients,x,y,n_vars=2,start=None,learning_rate=0.0001,decay_rate=0.8,batch_size=3,n_iters=100000,tolerance=1e-06,random_state=0)"
   ]
  },
  {
   "cell_type": "markdown",
   "metadata": {},
   "source": [
    "If you provide a start value other than None, then it’s used for the starting values.\n",
    "If start is None, then your random number generator creates the starting values using the standard normal distribution and the NumPy method .normal()."
   ]
  },
  {
   "cell_type": "markdown",
   "metadata": {},
   "source": [
    "* NOTE: This example is taken from this tutorial https://realpython.com/gradient-descent-algorithm-python/"
   ]
  },
  {
   "cell_type": "code",
   "execution_count": null,
   "metadata": {},
   "outputs": [],
   "source": []
  }
 ],
 "metadata": {
  "kernelspec": {
   "display_name": "Python 3",
   "language": "python",
   "name": "python3"
  },
  "language_info": {
   "codemirror_mode": {
    "name": "ipython",
    "version": 3
   },
   "file_extension": ".py",
   "mimetype": "text/x-python",
   "name": "python",
   "nbconvert_exporter": "python",
   "pygments_lexer": "ipython3",
   "version": "3.8.3"
  }
 },
 "nbformat": 4,
 "nbformat_minor": 4
}
